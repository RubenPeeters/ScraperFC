{
 "cells": [
  {
   "cell_type": "code",
   "execution_count": 1,
   "id": "84efcaf0",
   "metadata": {},
   "outputs": [],
   "source": [
    "%load_ext autoreload\n",
    "%autoreload 2"
   ]
  },
  {
   "cell_type": "code",
   "execution_count": 2,
   "id": "0ef1e920",
   "metadata": {},
   "outputs": [],
   "source": [
    "import sys\n",
    "sys.path.append('../src')\n",
    "import ScraperFC as sfc\n",
    "from tqdm import tqdm\n",
    "import random"
   ]
  },
  {
   "cell_type": "code",
   "execution_count": 3,
   "id": "91f84cbf",
   "metadata": {},
   "outputs": [
    {
     "name": "stdout",
     "output_type": "stream",
     "text": [
      "Running\n"
     ]
    },
    {
     "name": "stderr",
     "output_type": "stream",
     "text": [
      "2024 Copa Libertadores: 100%|██████████| 15/15 [02:31<00:00, 10.13s/it]\n",
      "2023 Copa Libertadores: 100%|██████████| 15/15 [02:24<00:00,  9.64s/it]\n",
      "2022 Copa Libertadores: 100%|██████████| 15/15 [02:24<00:00,  9.63s/it]\n",
      "2021 Copa Libertadores: 100%|██████████| 15/15 [02:21<00:00,  9.44s/it]\n",
      "2020 Copa Libertadores: 100%|██████████| 15/15 [02:27<00:00,  9.86s/it]\n",
      "2019 Copa Libertadores: 100%|██████████| 15/15 [02:25<00:00,  9.73s/it]\n",
      "2018 Copa Libertadores: 100%|██████████| 15/15 [02:13<00:00,  8.91s/it]\n",
      "2017 Copa Libertadores: 100%|██████████| 15/15 [02:07<00:00,  8.48s/it]\n",
      "2016 Copa Libertadores: 100%|██████████| 13/13 [01:53<00:00,  8.74s/it]\n",
      "2015 Copa Libertadores: 100%|██████████| 13/13 [02:05<00:00,  9.64s/it]\n",
      "2014 Copa Libertadores: 100%|██████████| 13/13 [01:50<00:00,  8.49s/it]\n",
      "2024-2025 Champions League: 100%|██████████| 18/18 [02:40<00:00,  8.92s/it]\n",
      "2023-2024 Champions League: 100%|██████████| 21/21 [03:33<00:00, 10.18s/it]\n",
      "2022-2023 Champions League: 100%|██████████| 21/21 [03:20<00:00,  9.53s/it]\n",
      "2021-2022 Champions League: 100%|██████████| 21/21 [03:25<00:00,  9.80s/it]\n",
      "2020-2021 Champions League: 100%|██████████| 17/17 [02:37<00:00,  9.27s/it]\n",
      "2019-2020 Champions League: 100%|██████████| 21/21 [03:19<00:00,  9.48s/it]\n",
      "2018-2019 Champions League: 100%|██████████| 21/21 [03:22<00:00,  9.63s/it]\n",
      "2017-2018 Champions League: 100%|██████████| 21/21 [03:32<00:00, 10.14s/it]\n",
      "2016-2017 Champions League: 100%|██████████| 21/21 [02:50<00:00,  8.12s/it]\n",
      "2015-2016 Champions League: 100%|██████████| 21/21 [03:09<00:00,  9.01s/it]\n",
      "2014-2015 Champions League: 100%|██████████| 21/21 [03:06<00:00,  8.89s/it]\n",
      "2013-2014 Champions League: 100%|██████████| 21/21 [02:57<00:00,  8.47s/it]\n",
      "2012-2013 Champions League: 100%|██████████| 21/21 [03:05<00:00,  8.86s/it]\n",
      "2011-2012 Champions League: 100%|██████████| 21/21 [02:54<00:00,  8.30s/it]\n",
      "2010-2011 Champions League: 100%|██████████| 21/21 [03:01<00:00,  8.66s/it]\n",
      "2009-2010 Champions League:  76%|███████▌  | 16/21 [02:22<00:44,  8.88s/it]\n"
     ]
    },
    {
     "ename": "UnicodeEncodeError",
     "evalue": "'latin-1' codec can't encode character '\\u0107' in position 80328: ordinal not in range(256)",
     "output_type": "error",
     "traceback": [
      "\u001b[1;31m---------------------------------------------------------------------------\u001b[0m",
      "\u001b[1;31mUnicodeEncodeError\u001b[0m                        Traceback (most recent call last)",
      "Cell \u001b[1;32mIn[3], line 11\u001b[0m\n\u001b[0;32m      9\u001b[0m match_links \u001b[38;5;241m=\u001b[39m random\u001b[38;5;241m.\u001b[39msample(match_links, \u001b[38;5;28mlen\u001b[39m(match_links) \u001b[38;5;241m/\u001b[39m\u001b[38;5;241m/\u001b[39m \u001b[38;5;241m10\u001b[39m)\n\u001b[0;32m     10\u001b[0m \u001b[38;5;28;01mfor\u001b[39;00m link \u001b[38;5;129;01min\u001b[39;00m tqdm(match_links, desc\u001b[38;5;241m=\u001b[39m\u001b[38;5;124mf\u001b[39m\u001b[38;5;124m\"\u001b[39m\u001b[38;5;132;01m{\u001b[39;00myear\u001b[38;5;132;01m}\u001b[39;00m\u001b[38;5;124m \u001b[39m\u001b[38;5;132;01m{\u001b[39;00mleague\u001b[38;5;132;01m}\u001b[39;00m\u001b[38;5;124m\"\u001b[39m):\n\u001b[1;32m---> 11\u001b[0m     _ \u001b[38;5;241m=\u001b[39m \u001b[43mfb\u001b[49m\u001b[38;5;241;43m.\u001b[39;49m\u001b[43mscrape_match\u001b[49m\u001b[43m(\u001b[49m\u001b[43mlink\u001b[49m\u001b[43m)\u001b[49m\n",
      "File \u001b[1;32mc:\\Users\\osmou\\Documents\\GitHub\\ScraperFC\\test\\../src\\ScraperFC\\fbref.py:371\u001b[0m, in \u001b[0;36mFBref.scrape_match\u001b[1;34m(self, link)\u001b[0m\n\u001b[0;32m    368\u001b[0m     \u001b[38;5;28;01mraise\u001b[39;00m \u001b[38;5;167;01mTypeError\u001b[39;00m(\u001b[38;5;124m'\u001b[39m\u001b[38;5;124m`link` must be a string.\u001b[39m\u001b[38;5;124m'\u001b[39m)\n\u001b[0;32m    370\u001b[0m r \u001b[38;5;241m=\u001b[39m \u001b[38;5;28mself\u001b[39m\u001b[38;5;241m.\u001b[39m_get(link)\n\u001b[1;32m--> 371\u001b[0m soup \u001b[38;5;241m=\u001b[39m BeautifulSoup(\u001b[43mr\u001b[49m\u001b[38;5;241;43m.\u001b[39;49m\u001b[43mcontent\u001b[49m, \u001b[38;5;124m'\u001b[39m\u001b[38;5;124mhtml.parser\u001b[39m\u001b[38;5;124m'\u001b[39m)\n\u001b[0;32m    373\u001b[0m \u001b[38;5;66;03m# General match info\u001b[39;00m\n\u001b[0;32m    374\u001b[0m scorebox_meta_tag \u001b[38;5;241m=\u001b[39m soup\u001b[38;5;241m.\u001b[39mfind(\u001b[38;5;124m\"\u001b[39m\u001b[38;5;124mdiv\u001b[39m\u001b[38;5;124m\"\u001b[39m, {\u001b[38;5;124m\"\u001b[39m\u001b[38;5;124mclass\u001b[39m\u001b[38;5;124m\"\u001b[39m: \u001b[38;5;124m\"\u001b[39m\u001b[38;5;124mscorebox_meta\u001b[39m\u001b[38;5;124m\"\u001b[39m})\n",
      "File \u001b[1;32mc:\\Users\\osmou\\AppData\\Local\\Programs\\Python\\Python312\\Lib\\site-packages\\botasaurus_requests\\response.py:171\u001b[0m, in \u001b[0;36mResponse.content\u001b[1;34m(self)\u001b[0m\n\u001b[0;32m    168\u001b[0m \u001b[38;5;129m@property\u001b[39m\n\u001b[0;32m    169\u001b[0m \u001b[38;5;28;01mdef\u001b[39;00m \u001b[38;5;21mcontent\u001b[39m(\u001b[38;5;28mself\u001b[39m) \u001b[38;5;241m-\u001b[39m\u001b[38;5;241m>\u001b[39m \u001b[38;5;28mbytes\u001b[39m:\n\u001b[0;32m    170\u001b[0m     \u001b[38;5;66;03m# note: this will convert the content to bytes on each access\u001b[39;00m\n\u001b[1;32m--> 171\u001b[0m     \u001b[38;5;28;01mreturn\u001b[39;00m \u001b[38;5;28mself\u001b[39m\u001b[38;5;241m.\u001b[39mraw \u001b[38;5;28;01mif\u001b[39;00m \u001b[38;5;28mtype\u001b[39m(\u001b[38;5;28mself\u001b[39m\u001b[38;5;241m.\u001b[39mraw) \u001b[38;5;129;01mis\u001b[39;00m \u001b[38;5;28mbytes\u001b[39m \u001b[38;5;28;01melse\u001b[39;00m \u001b[38;5;28;43mself\u001b[39;49m\u001b[38;5;241;43m.\u001b[39;49m\u001b[43mraw\u001b[49m\u001b[38;5;241;43m.\u001b[39;49m\u001b[43mencode\u001b[49m\u001b[43m(\u001b[49m\u001b[38;5;28;43mself\u001b[39;49m\u001b[38;5;241;43m.\u001b[39;49m\u001b[43mencoding\u001b[49m\u001b[43m)\u001b[49m\n",
      "\u001b[1;31mUnicodeEncodeError\u001b[0m: 'latin-1' codec can't encode character '\\u0107' in position 80328: ordinal not in range(256)"
     ]
    }
   ],
   "source": [
    "from ScraperFC.fbref import comps\n",
    "\n",
    "fb = sfc.FBref()\n",
    "\n",
    "for league in comps.keys():\n",
    "    valid_years = fb.get_valid_seasons(league)\n",
    "    for year in valid_years:\n",
    "        match_links = fb.get_match_links(year, league)\n",
    "        match_links = random.sample(match_links, len(match_links) // 10)\n",
    "        for link in tqdm(match_links, desc=f\"{year} {league}\"):\n",
    "            _ = fb.scrape_match(link)"
   ]
  }
 ],
 "metadata": {
  "kernelspec": {
   "display_name": "Python 3",
   "language": "python",
   "name": "python3"
  },
  "language_info": {
   "codemirror_mode": {
    "name": "ipython",
    "version": 3
   },
   "file_extension": ".py",
   "mimetype": "text/x-python",
   "name": "python",
   "nbconvert_exporter": "python",
   "pygments_lexer": "ipython3",
   "version": "3.12.0"
  }
 },
 "nbformat": 4,
 "nbformat_minor": 5
}
